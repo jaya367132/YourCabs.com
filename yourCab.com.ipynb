{
 "cells": [
  {
   "cell_type": "markdown",
   "id": "7bf88883",
   "metadata": {},
   "source": [
    "# Import imp linraies "
   ]
  },
  {
   "cell_type": "code",
   "execution_count": 1,
   "id": "2437fe0d",
   "metadata": {},
   "outputs": [],
   "source": [
    "import pandas as pd\n",
    "import seaborn as sns\n",
    "import matplotlib.pyplot as plt\n",
    "import numpy as np\n",
    "import pandas as pd\n",
    "import numpy as np\n",
    "import seaborn as sns\n",
    "import matplotlib.pyplot as plt\n",
    "from sklearn.model_selection import train_test_split\n",
    "from sklearn.tree import DecisionTreeClassifier\n",
    "from sklearn.ensemble import RandomForestClassifier, BaggingClassifier, VotingClassifier\n",
    "from sklearn.svm import SVC\n",
    "from sklearn.metrics import confusion_matrix, mean_squared_error\n",
    "from sklearn.linear_model import LogisticRegression"
   ]
  },
  {
   "cell_type": "markdown",
   "id": "72a33d7a",
   "metadata": {},
   "source": [
    "# Load the data set ."
   ]
  },
  {
   "cell_type": "code",
   "execution_count": 2,
   "id": "8fb40af3",
   "metadata": {},
   "outputs": [
    {
     "data": {
      "text/html": [
       "<div>\n",
       "<style scoped>\n",
       "    .dataframe tbody tr th:only-of-type {\n",
       "        vertical-align: middle;\n",
       "    }\n",
       "\n",
       "    .dataframe tbody tr th {\n",
       "        vertical-align: top;\n",
       "    }\n",
       "\n",
       "    .dataframe thead th {\n",
       "        text-align: right;\n",
       "    }\n",
       "</style>\n",
       "<table border=\"1\" class=\"dataframe\">\n",
       "  <thead>\n",
       "    <tr style=\"text-align: right;\">\n",
       "      <th></th>\n",
       "      <th>id</th>\n",
       "      <th>user_id</th>\n",
       "      <th>vehicle_model_id</th>\n",
       "      <th>package_id</th>\n",
       "      <th>travel_type_id</th>\n",
       "      <th>from_area_id</th>\n",
       "      <th>to_area_id</th>\n",
       "      <th>from_city_id</th>\n",
       "      <th>to_city_id</th>\n",
       "      <th>from_date</th>\n",
       "      <th>to_date</th>\n",
       "      <th>online_booking</th>\n",
       "      <th>mobile_site_booking</th>\n",
       "      <th>booking_created</th>\n",
       "      <th>from_lat</th>\n",
       "      <th>from_long</th>\n",
       "      <th>to_lat</th>\n",
       "      <th>to_long</th>\n",
       "      <th>Car_Cancellation</th>\n",
       "      <th>Cost_of_error</th>\n",
       "    </tr>\n",
       "  </thead>\n",
       "  <tbody>\n",
       "    <tr>\n",
       "      <th>0</th>\n",
       "      <td>132512</td>\n",
       "      <td>22177</td>\n",
       "      <td>28</td>\n",
       "      <td>NaN</td>\n",
       "      <td>2</td>\n",
       "      <td>83.0</td>\n",
       "      <td>448.0</td>\n",
       "      <td>NaN</td>\n",
       "      <td>NaN</td>\n",
       "      <td>1/1/2013 2:00</td>\n",
       "      <td>NaN</td>\n",
       "      <td>0</td>\n",
       "      <td>0</td>\n",
       "      <td>1/1/2013 1:39</td>\n",
       "      <td>12.92415</td>\n",
       "      <td>77.67229</td>\n",
       "      <td>12.92732</td>\n",
       "      <td>77.63575</td>\n",
       "      <td>0</td>\n",
       "      <td>1.0</td>\n",
       "    </tr>\n",
       "  </tbody>\n",
       "</table>\n",
       "</div>"
      ],
      "text/plain": [
       "       id  user_id  vehicle_model_id  package_id  travel_type_id  \\\n",
       "0  132512    22177                28         NaN               2   \n",
       "\n",
       "   from_area_id  to_area_id  from_city_id  to_city_id      from_date  to_date  \\\n",
       "0          83.0       448.0           NaN         NaN  1/1/2013 2:00      NaN   \n",
       "\n",
       "   online_booking  mobile_site_booking booking_created  from_lat  from_long  \\\n",
       "0               0                    0   1/1/2013 1:39  12.92415   77.67229   \n",
       "\n",
       "     to_lat   to_long  Car_Cancellation  Cost_of_error  \n",
       "0  12.92732  77.63575                 0            1.0  "
      ]
     },
     "execution_count": 2,
     "metadata": {},
     "output_type": "execute_result"
    }
   ],
   "source": [
    "df = pd.read_csv('/Users/jayasinha/Downloads/YourCabs_training.csv')\n",
    "df.head(1)"
   ]
  },
  {
   "cell_type": "code",
   "execution_count": 3,
   "id": "843de06c",
   "metadata": {},
   "outputs": [
    {
     "data": {
      "text/plain": [
       "id                         0\n",
       "user_id                    0\n",
       "vehicle_model_id           0\n",
       "package_id             35881\n",
       "travel_type_id             0\n",
       "from_area_id              88\n",
       "to_area_id              9138\n",
       "from_city_id           27086\n",
       "to_city_id             41843\n",
       "from_date                  0\n",
       "to_date                17890\n",
       "online_booking             0\n",
       "mobile_site_booking        0\n",
       "booking_created            0\n",
       "from_lat                  93\n",
       "from_long                 93\n",
       "to_lat                  9138\n",
       "to_long                 9138\n",
       "Car_Cancellation           0\n",
       "Cost_of_error              0\n",
       "dtype: int64"
      ]
     },
     "execution_count": 3,
     "metadata": {},
     "output_type": "execute_result"
    }
   ],
   "source": [
    "# check null values .\n",
    "\n",
    "df.isnull().sum()"
   ]
  },
  {
   "cell_type": "markdown",
   "id": "30ecb075",
   "metadata": {},
   "source": [
    "# Data cleaning . \n"
   ]
  },
  {
   "cell_type": "markdown",
   "id": "c70cdb3b",
   "metadata": {},
   "source": [
    "\n",
    "-  Drop the columan which are not required ."
   ]
  },
  {
   "cell_type": "code",
   "execution_count": 4,
   "id": "fa2434e9",
   "metadata": {},
   "outputs": [],
   "source": [
    "df.drop(['id','user_id','vehicle_model_id','to_date','package_id','from_city_id','to_city_id','to_date','Cost_of_error'],axis='columns',inplace=True)\n",
    "#Dropping Identity columns\n",
    "#Dropping on null percentage >40\n",
    "#Dropping to_area_id as of no scope"
   ]
  },
  {
   "cell_type": "code",
   "execution_count": 5,
   "id": "61be6cff",
   "metadata": {},
   "outputs": [
    {
     "data": {
      "text/plain": [
       "travel_type_id            0\n",
       "from_area_id             88\n",
       "to_area_id             9138\n",
       "from_date                 0\n",
       "online_booking            0\n",
       "mobile_site_booking       0\n",
       "booking_created           0\n",
       "from_lat                 93\n",
       "from_long                93\n",
       "to_lat                 9138\n",
       "to_long                9138\n",
       "Car_Cancellation          0\n",
       "dtype: int64"
      ]
     },
     "execution_count": 5,
     "metadata": {},
     "output_type": "execute_result"
    }
   ],
   "source": [
    "# Check for null values \n",
    "df.isnull().sum()"
   ]
  },
  {
   "cell_type": "markdown",
   "id": "f0e464a1",
   "metadata": {},
   "source": [
    "# Data Transforming ."
   ]
  },
  {
   "cell_type": "code",
   "execution_count": 6,
   "id": "73814f85",
   "metadata": {},
   "outputs": [],
   "source": [
    "# Filing from_area_id and to_area_id with mode values \n",
    "mode_AreaId = df['from_area_id'].mode()\n",
    "df['from_area_id'] = df['from_area_id'].fillna(393.0)\n",
    "df['to_area_id'].mode()\n",
    "df['to_area_id'] = df['to_area_id'].fillna(393.0)\n",
    "\n",
    "df['from_lat'].mode()\n",
    "df['from_lat'] = df['from_lat'].fillna(13.19956)\n",
    "\n",
    "df['from_long'].mode()\n",
    "df['from_long'] = df['from_long'].fillna(77.70688)\n"
   ]
  },
  {
   "cell_type": "code",
   "execution_count": 7,
   "id": "617a456f",
   "metadata": {},
   "outputs": [],
   "source": [
    "# Filling out the median values to_lat and to_long for the null values .\n",
    "\n",
    "df['to_lat']=df['to_lat'].fillna(df.groupby(['to_area_id'])['to_lat'].transform('median'))\n",
    "df['to_long']=df['to_long'].fillna(df.groupby(['to_area_id'])['to_long'].transform('median'))\n",
    "\n",
    "\n",
    "df['from_lat']=df['from_lat'].fillna(df.groupby(['from_area_id'])['from_lat'].transform('median'))\n",
    "df['from_long']=df['from_long'].fillna(df.groupby(['from_area_id'])['from_long'].transform('median'))\n",
    "\n"
   ]
  },
  {
   "cell_type": "code",
   "execution_count": 8,
   "id": "998bdbe9",
   "metadata": {},
   "outputs": [
    {
     "data": {
      "text/plain": [
       "travel_type_id         0\n",
       "from_area_id           0\n",
       "to_area_id             0\n",
       "from_date              0\n",
       "online_booking         0\n",
       "mobile_site_booking    0\n",
       "booking_created        0\n",
       "from_lat               0\n",
       "from_long              0\n",
       "to_lat                 0\n",
       "to_long                0\n",
       "Car_Cancellation       0\n",
       "dtype: int64"
      ]
     },
     "execution_count": 8,
     "metadata": {},
     "output_type": "execute_result"
    }
   ],
   "source": [
    "df.isnull().sum()"
   ]
  },
  {
   "cell_type": "markdown",
   "id": "2e431e8e",
   "metadata": {},
   "source": [
    "- Extracting date from the date and time ."
   ]
  },
  {
   "cell_type": "code",
   "execution_count": 9,
   "id": "3c6f6a82",
   "metadata": {},
   "outputs": [
    {
     "data": {
      "text/html": [
       "<div>\n",
       "<style scoped>\n",
       "    .dataframe tbody tr th:only-of-type {\n",
       "        vertical-align: middle;\n",
       "    }\n",
       "\n",
       "    .dataframe tbody tr th {\n",
       "        vertical-align: top;\n",
       "    }\n",
       "\n",
       "    .dataframe thead th {\n",
       "        text-align: right;\n",
       "    }\n",
       "</style>\n",
       "<table border=\"1\" class=\"dataframe\">\n",
       "  <thead>\n",
       "    <tr style=\"text-align: right;\">\n",
       "      <th></th>\n",
       "      <th>travel_type_id</th>\n",
       "      <th>from_area_id</th>\n",
       "      <th>to_area_id</th>\n",
       "      <th>from_date</th>\n",
       "      <th>online_booking</th>\n",
       "      <th>mobile_site_booking</th>\n",
       "      <th>booking_created</th>\n",
       "      <th>from_lat</th>\n",
       "      <th>from_long</th>\n",
       "      <th>to_lat</th>\n",
       "      <th>to_long</th>\n",
       "      <th>Car_Cancellation</th>\n",
       "      <th>from_date_day_name</th>\n",
       "      <th>from_date_time</th>\n",
       "    </tr>\n",
       "  </thead>\n",
       "  <tbody>\n",
       "    <tr>\n",
       "      <th>0</th>\n",
       "      <td>2</td>\n",
       "      <td>83.0</td>\n",
       "      <td>448.0</td>\n",
       "      <td>2013-01-01 02:00:00</td>\n",
       "      <td>0</td>\n",
       "      <td>0</td>\n",
       "      <td>1/1/2013 1:39</td>\n",
       "      <td>12.92415</td>\n",
       "      <td>77.67229</td>\n",
       "      <td>12.92732</td>\n",
       "      <td>77.63575</td>\n",
       "      <td>0</td>\n",
       "      <td>Tuesday</td>\n",
       "      <td>02:00:00</td>\n",
       "    </tr>\n",
       "  </tbody>\n",
       "</table>\n",
       "</div>"
      ],
      "text/plain": [
       "   travel_type_id  from_area_id  to_area_id           from_date  \\\n",
       "0               2          83.0       448.0 2013-01-01 02:00:00   \n",
       "\n",
       "   online_booking  mobile_site_booking booking_created  from_lat  from_long  \\\n",
       "0               0                    0   1/1/2013 1:39  12.92415   77.67229   \n",
       "\n",
       "     to_lat   to_long  Car_Cancellation from_date_day_name from_date_time  \n",
       "0  12.92732  77.63575                 0            Tuesday       02:00:00  "
      ]
     },
     "execution_count": 9,
     "metadata": {},
     "output_type": "execute_result"
    }
   ],
   "source": [
    "## Extracting date from the date and time .\n",
    "# converted the object data type to dtype: datetime64[ns]\n",
    "df['from_date'] = pd.to_datetime(df['from_date'])\n",
    "## Extracting date from the date and time .\n",
    "df['from_date_day_name'] = df['from_date'].dt.day_name()\n",
    "## Extracting date from the time .\n",
    "df['from_date_time'] = pd.to_datetime(df.from_date, format='%Y-%m-%d %H:%M:%S')\n",
    "df['from_date_time']=df['from_date'].dt.strftime('%H:%M:%S')\n",
    "df.head(1)"
   ]
  },
  {
   "cell_type": "code",
   "execution_count": 10,
   "id": "8f704253",
   "metadata": {},
   "outputs": [],
   "source": [
    "# Group time range \n",
    "\n",
    "df['period_from_date']= (df['from_date'].dt.hour%24+4)//4\n",
    "df['period_from_date'].replace({1: 'Late Night',\n",
    "                      2: 'Early Morning',\n",
    "                      3: 'Morning',\n",
    "                      4: 'Noon',\n",
    "                      5: 'Evening',\n",
    "                      6: 'Night'}, inplace=True)"
   ]
  },
  {
   "cell_type": "markdown",
   "id": "e78c554d",
   "metadata": {},
   "source": [
    "- Extracting date from the time from booking created ."
   ]
  },
  {
   "cell_type": "code",
   "execution_count": 11,
   "id": "114e5278",
   "metadata": {},
   "outputs": [],
   "source": [
    "## Extracting date from the time from booking created \n",
    "\n",
    "df['booking_created'] = pd.to_datetime(df.from_date, format='%Y-%m-%d %H:%M:%S')\n",
    "df['booking_created_time']=df['booking_created'].dt.strftime('%H:%M:%S')\n",
    "\n",
    "df['period_booking_created']= (df['booking_created'].dt.hour%24+4)//4\n",
    "df['period_booking_created'].replace({1: 'Late Night',\n",
    "                      2: 'Early Morning',\n",
    "                      3: 'Morning',\n",
    "                      4: 'Noon',\n",
    "                      5: 'Evening',\n",
    "                      6: 'Night'}, inplace=True)\n",
    "df['booking_created_day'] = df['booking_created'].dt.day_name()\n",
    "\n"
   ]
  },
  {
   "cell_type": "code",
   "execution_count": 12,
   "id": "78f892fa",
   "metadata": {},
   "outputs": [
    {
     "data": {
      "text/html": [
       "<div>\n",
       "<style scoped>\n",
       "    .dataframe tbody tr th:only-of-type {\n",
       "        vertical-align: middle;\n",
       "    }\n",
       "\n",
       "    .dataframe tbody tr th {\n",
       "        vertical-align: top;\n",
       "    }\n",
       "\n",
       "    .dataframe thead th {\n",
       "        text-align: right;\n",
       "    }\n",
       "</style>\n",
       "<table border=\"1\" class=\"dataframe\">\n",
       "  <thead>\n",
       "    <tr style=\"text-align: right;\">\n",
       "      <th></th>\n",
       "      <th>travel_type_id</th>\n",
       "      <th>from_area_id</th>\n",
       "      <th>to_area_id</th>\n",
       "      <th>from_date</th>\n",
       "      <th>online_booking</th>\n",
       "      <th>mobile_site_booking</th>\n",
       "      <th>booking_created</th>\n",
       "      <th>from_lat</th>\n",
       "      <th>from_long</th>\n",
       "      <th>to_lat</th>\n",
       "      <th>to_long</th>\n",
       "      <th>Car_Cancellation</th>\n",
       "      <th>from_date_day_name</th>\n",
       "      <th>from_date_time</th>\n",
       "      <th>period_from_date</th>\n",
       "      <th>booking_created_time</th>\n",
       "      <th>period_booking_created</th>\n",
       "      <th>booking_created_day</th>\n",
       "    </tr>\n",
       "  </thead>\n",
       "  <tbody>\n",
       "    <tr>\n",
       "      <th>0</th>\n",
       "      <td>2</td>\n",
       "      <td>83.0</td>\n",
       "      <td>448.0</td>\n",
       "      <td>2013-01-01 02:00:00</td>\n",
       "      <td>0</td>\n",
       "      <td>0</td>\n",
       "      <td>2013-01-01 02:00:00</td>\n",
       "      <td>12.92415</td>\n",
       "      <td>77.67229</td>\n",
       "      <td>12.92732</td>\n",
       "      <td>77.63575</td>\n",
       "      <td>0</td>\n",
       "      <td>Tuesday</td>\n",
       "      <td>02:00:00</td>\n",
       "      <td>Late Night</td>\n",
       "      <td>02:00:00</td>\n",
       "      <td>Late Night</td>\n",
       "      <td>Tuesday</td>\n",
       "    </tr>\n",
       "  </tbody>\n",
       "</table>\n",
       "</div>"
      ],
      "text/plain": [
       "   travel_type_id  from_area_id  to_area_id           from_date  \\\n",
       "0               2          83.0       448.0 2013-01-01 02:00:00   \n",
       "\n",
       "   online_booking  mobile_site_booking     booking_created  from_lat  \\\n",
       "0               0                    0 2013-01-01 02:00:00  12.92415   \n",
       "\n",
       "   from_long    to_lat   to_long  Car_Cancellation from_date_day_name  \\\n",
       "0   77.67229  12.92732  77.63575                 0            Tuesday   \n",
       "\n",
       "  from_date_time period_from_date booking_created_time period_booking_created  \\\n",
       "0       02:00:00       Late Night             02:00:00             Late Night   \n",
       "\n",
       "  booking_created_day  \n",
       "0             Tuesday  "
      ]
     },
     "execution_count": 12,
     "metadata": {},
     "output_type": "execute_result"
    }
   ],
   "source": [
    "df.head(1)"
   ]
  },
  {
   "cell_type": "markdown",
   "id": "7a1fb8d8",
   "metadata": {},
   "source": [
    "- difference btween booking date and from date  "
   ]
  },
  {
   "cell_type": "code",
   "execution_count": 13,
   "id": "8e188fd8",
   "metadata": {},
   "outputs": [],
   "source": [
    "df['difference']=pd.to_datetime(df['booking_created_time'])-pd.to_datetime(df['from_date_time'])\n",
    "df['difference_min ']=df['difference']/np.timedelta64(1,'m')"
   ]
  },
  {
   "cell_type": "code",
   "execution_count": 14,
   "id": "86c860b8",
   "metadata": {},
   "outputs": [
    {
     "data": {
      "text/html": [
       "<div>\n",
       "<style scoped>\n",
       "    .dataframe tbody tr th:only-of-type {\n",
       "        vertical-align: middle;\n",
       "    }\n",
       "\n",
       "    .dataframe tbody tr th {\n",
       "        vertical-align: top;\n",
       "    }\n",
       "\n",
       "    .dataframe thead th {\n",
       "        text-align: right;\n",
       "    }\n",
       "</style>\n",
       "<table border=\"1\" class=\"dataframe\">\n",
       "  <thead>\n",
       "    <tr style=\"text-align: right;\">\n",
       "      <th></th>\n",
       "      <th>travel_type_id</th>\n",
       "      <th>from_area_id</th>\n",
       "      <th>to_area_id</th>\n",
       "      <th>from_date</th>\n",
       "      <th>online_booking</th>\n",
       "      <th>mobile_site_booking</th>\n",
       "      <th>booking_created</th>\n",
       "      <th>from_lat</th>\n",
       "      <th>from_long</th>\n",
       "      <th>to_lat</th>\n",
       "      <th>to_long</th>\n",
       "      <th>Car_Cancellation</th>\n",
       "      <th>from_date_day_name</th>\n",
       "      <th>from_date_time</th>\n",
       "      <th>period_from_date</th>\n",
       "      <th>booking_created_time</th>\n",
       "      <th>period_booking_created</th>\n",
       "      <th>booking_created_day</th>\n",
       "      <th>difference</th>\n",
       "      <th>difference_min</th>\n",
       "    </tr>\n",
       "  </thead>\n",
       "  <tbody>\n",
       "    <tr>\n",
       "      <th>0</th>\n",
       "      <td>2</td>\n",
       "      <td>83.0</td>\n",
       "      <td>448.0</td>\n",
       "      <td>2013-01-01 02:00:00</td>\n",
       "      <td>0</td>\n",
       "      <td>0</td>\n",
       "      <td>2013-01-01 02:00:00</td>\n",
       "      <td>12.924150</td>\n",
       "      <td>77.672290</td>\n",
       "      <td>12.927320</td>\n",
       "      <td>77.635750</td>\n",
       "      <td>0</td>\n",
       "      <td>Tuesday</td>\n",
       "      <td>02:00:00</td>\n",
       "      <td>Late Night</td>\n",
       "      <td>02:00:00</td>\n",
       "      <td>Late Night</td>\n",
       "      <td>Tuesday</td>\n",
       "      <td>0 days</td>\n",
       "      <td>0.0</td>\n",
       "    </tr>\n",
       "    <tr>\n",
       "      <th>1</th>\n",
       "      <td>2</td>\n",
       "      <td>1010.0</td>\n",
       "      <td>540.0</td>\n",
       "      <td>2013-01-01 09:00:00</td>\n",
       "      <td>0</td>\n",
       "      <td>0</td>\n",
       "      <td>2013-01-01 09:00:00</td>\n",
       "      <td>12.966910</td>\n",
       "      <td>77.749350</td>\n",
       "      <td>12.927680</td>\n",
       "      <td>77.626640</td>\n",
       "      <td>0</td>\n",
       "      <td>Tuesday</td>\n",
       "      <td>09:00:00</td>\n",
       "      <td>Morning</td>\n",
       "      <td>09:00:00</td>\n",
       "      <td>Morning</td>\n",
       "      <td>Tuesday</td>\n",
       "      <td>0 days</td>\n",
       "      <td>0.0</td>\n",
       "    </tr>\n",
       "    <tr>\n",
       "      <th>2</th>\n",
       "      <td>2</td>\n",
       "      <td>1301.0</td>\n",
       "      <td>1034.0</td>\n",
       "      <td>2013-01-01 03:30:00</td>\n",
       "      <td>0</td>\n",
       "      <td>0</td>\n",
       "      <td>2013-01-01 03:30:00</td>\n",
       "      <td>12.937222</td>\n",
       "      <td>77.626915</td>\n",
       "      <td>13.047926</td>\n",
       "      <td>77.597766</td>\n",
       "      <td>0</td>\n",
       "      <td>Tuesday</td>\n",
       "      <td>03:30:00</td>\n",
       "      <td>Late Night</td>\n",
       "      <td>03:30:00</td>\n",
       "      <td>Late Night</td>\n",
       "      <td>Tuesday</td>\n",
       "      <td>0 days</td>\n",
       "      <td>0.0</td>\n",
       "    </tr>\n",
       "    <tr>\n",
       "      <th>3</th>\n",
       "      <td>2</td>\n",
       "      <td>768.0</td>\n",
       "      <td>398.0</td>\n",
       "      <td>2013-01-01 05:45:00</td>\n",
       "      <td>0</td>\n",
       "      <td>0</td>\n",
       "      <td>2013-01-01 05:45:00</td>\n",
       "      <td>12.989990</td>\n",
       "      <td>77.553320</td>\n",
       "      <td>12.971430</td>\n",
       "      <td>77.639140</td>\n",
       "      <td>0</td>\n",
       "      <td>Tuesday</td>\n",
       "      <td>05:45:00</td>\n",
       "      <td>Early Morning</td>\n",
       "      <td>05:45:00</td>\n",
       "      <td>Early Morning</td>\n",
       "      <td>Tuesday</td>\n",
       "      <td>0 days</td>\n",
       "      <td>0.0</td>\n",
       "    </tr>\n",
       "    <tr>\n",
       "      <th>4</th>\n",
       "      <td>2</td>\n",
       "      <td>1365.0</td>\n",
       "      <td>849.0</td>\n",
       "      <td>2013-01-01 09:00:00</td>\n",
       "      <td>0</td>\n",
       "      <td>0</td>\n",
       "      <td>2013-01-01 09:00:00</td>\n",
       "      <td>12.845653</td>\n",
       "      <td>77.677925</td>\n",
       "      <td>12.954340</td>\n",
       "      <td>77.600720</td>\n",
       "      <td>0</td>\n",
       "      <td>Tuesday</td>\n",
       "      <td>09:00:00</td>\n",
       "      <td>Morning</td>\n",
       "      <td>09:00:00</td>\n",
       "      <td>Morning</td>\n",
       "      <td>Tuesday</td>\n",
       "      <td>0 days</td>\n",
       "      <td>0.0</td>\n",
       "    </tr>\n",
       "  </tbody>\n",
       "</table>\n",
       "</div>"
      ],
      "text/plain": [
       "   travel_type_id  from_area_id  to_area_id           from_date  \\\n",
       "0               2          83.0       448.0 2013-01-01 02:00:00   \n",
       "1               2        1010.0       540.0 2013-01-01 09:00:00   \n",
       "2               2        1301.0      1034.0 2013-01-01 03:30:00   \n",
       "3               2         768.0       398.0 2013-01-01 05:45:00   \n",
       "4               2        1365.0       849.0 2013-01-01 09:00:00   \n",
       "\n",
       "   online_booking  mobile_site_booking     booking_created   from_lat  \\\n",
       "0               0                    0 2013-01-01 02:00:00  12.924150   \n",
       "1               0                    0 2013-01-01 09:00:00  12.966910   \n",
       "2               0                    0 2013-01-01 03:30:00  12.937222   \n",
       "3               0                    0 2013-01-01 05:45:00  12.989990   \n",
       "4               0                    0 2013-01-01 09:00:00  12.845653   \n",
       "\n",
       "   from_long     to_lat    to_long  Car_Cancellation from_date_day_name  \\\n",
       "0  77.672290  12.927320  77.635750                 0            Tuesday   \n",
       "1  77.749350  12.927680  77.626640                 0            Tuesday   \n",
       "2  77.626915  13.047926  77.597766                 0            Tuesday   \n",
       "3  77.553320  12.971430  77.639140                 0            Tuesday   \n",
       "4  77.677925  12.954340  77.600720                 0            Tuesday   \n",
       "\n",
       "  from_date_time period_from_date booking_created_time period_booking_created  \\\n",
       "0       02:00:00       Late Night             02:00:00             Late Night   \n",
       "1       09:00:00          Morning             09:00:00                Morning   \n",
       "2       03:30:00       Late Night             03:30:00             Late Night   \n",
       "3       05:45:00    Early Morning             05:45:00          Early Morning   \n",
       "4       09:00:00          Morning             09:00:00                Morning   \n",
       "\n",
       "  booking_created_day difference  difference_min   \n",
       "0             Tuesday     0 days              0.0  \n",
       "1             Tuesday     0 days              0.0  \n",
       "2             Tuesday     0 days              0.0  \n",
       "3             Tuesday     0 days              0.0  \n",
       "4             Tuesday     0 days              0.0  "
      ]
     },
     "execution_count": 14,
     "metadata": {},
     "output_type": "execute_result"
    }
   ],
   "source": [
    "df.head()"
   ]
  },
  {
   "cell_type": "markdown",
   "id": "99042786",
   "metadata": {},
   "source": [
    "- Distances btween starting point and ending point ."
   ]
  },
  {
   "cell_type": "code",
   "execution_count": 15,
   "id": "e06c31ce",
   "metadata": {},
   "outputs": [],
   "source": [
    "from math import radians, cos, sin, asin, sqrt"
   ]
  },
  {
   "cell_type": "code",
   "execution_count": 16,
   "id": "7cd10133",
   "metadata": {},
   "outputs": [],
   "source": [
    "def distance(lat1, lat2, lon1, lon2): \n",
    "      \n",
    "    # The math module contains a function named \n",
    "    # radians which converts from degrees to radians. \n",
    "    lon1 = radians(lon1) \n",
    "    lon2 = radians(lon2) \n",
    "    lat1 = radians(lat1) \n",
    "    lat2 = radians(lat2) \n",
    "       \n",
    "    # Haversine formula  \n",
    "    dlon = lon2 - lon1  \n",
    "    dlat = lat2 - lat1 \n",
    "    a = sin(dlat / 2)**2 + cos(lat1) * cos(lat2) * sin(dlon / 2)**2\n",
    "  \n",
    "    c = 2 * asin(sqrt(a))  \n",
    "     \n",
    "    # Radius of earth in kilometers. Use 3956 for miles \n",
    "    r = 6371\n",
    "       \n",
    "    # calculate the result \n",
    "    return(c * r) "
   ]
  },
  {
   "cell_type": "code",
   "execution_count": 17,
   "id": "b204f7c8",
   "metadata": {},
   "outputs": [],
   "source": [
    "for i in range(0,len(df)):\n",
    "    dist=distance(df.loc[i,'from_lat'],\n",
    "                  df.loc[i,'to_lat'],\n",
    "                  df.loc[i,'from_long'],\n",
    "                  df.loc[i,'to_long'])\n",
    "    df.loc[i,'Distance_Km']=dist"
   ]
  },
  {
   "cell_type": "code",
   "execution_count": 18,
   "id": "6ab50662",
   "metadata": {},
   "outputs": [
    {
     "data": {
      "text/html": [
       "<div>\n",
       "<style scoped>\n",
       "    .dataframe tbody tr th:only-of-type {\n",
       "        vertical-align: middle;\n",
       "    }\n",
       "\n",
       "    .dataframe tbody tr th {\n",
       "        vertical-align: top;\n",
       "    }\n",
       "\n",
       "    .dataframe thead th {\n",
       "        text-align: right;\n",
       "    }\n",
       "</style>\n",
       "<table border=\"1\" class=\"dataframe\">\n",
       "  <thead>\n",
       "    <tr style=\"text-align: right;\">\n",
       "      <th></th>\n",
       "      <th>travel_type_id</th>\n",
       "      <th>from_area_id</th>\n",
       "      <th>to_area_id</th>\n",
       "      <th>from_date</th>\n",
       "      <th>online_booking</th>\n",
       "      <th>mobile_site_booking</th>\n",
       "      <th>booking_created</th>\n",
       "      <th>from_lat</th>\n",
       "      <th>from_long</th>\n",
       "      <th>to_lat</th>\n",
       "      <th>...</th>\n",
       "      <th>Car_Cancellation</th>\n",
       "      <th>from_date_day_name</th>\n",
       "      <th>from_date_time</th>\n",
       "      <th>period_from_date</th>\n",
       "      <th>booking_created_time</th>\n",
       "      <th>period_booking_created</th>\n",
       "      <th>booking_created_day</th>\n",
       "      <th>difference</th>\n",
       "      <th>difference_min</th>\n",
       "      <th>Distance_Km</th>\n",
       "    </tr>\n",
       "  </thead>\n",
       "  <tbody>\n",
       "    <tr>\n",
       "      <th>0</th>\n",
       "      <td>2</td>\n",
       "      <td>83.0</td>\n",
       "      <td>448.0</td>\n",
       "      <td>2013-01-01 02:00:00</td>\n",
       "      <td>0</td>\n",
       "      <td>0</td>\n",
       "      <td>2013-01-01 02:00:00</td>\n",
       "      <td>12.92415</td>\n",
       "      <td>77.67229</td>\n",
       "      <td>12.92732</td>\n",
       "      <td>...</td>\n",
       "      <td>0</td>\n",
       "      <td>Tuesday</td>\n",
       "      <td>02:00:00</td>\n",
       "      <td>Late Night</td>\n",
       "      <td>02:00:00</td>\n",
       "      <td>Late Night</td>\n",
       "      <td>Tuesday</td>\n",
       "      <td>0 days</td>\n",
       "      <td>0.0</td>\n",
       "      <td>3.975764</td>\n",
       "    </tr>\n",
       "  </tbody>\n",
       "</table>\n",
       "<p>1 rows × 21 columns</p>\n",
       "</div>"
      ],
      "text/plain": [
       "   travel_type_id  from_area_id  to_area_id           from_date  \\\n",
       "0               2          83.0       448.0 2013-01-01 02:00:00   \n",
       "\n",
       "   online_booking  mobile_site_booking     booking_created  from_lat  \\\n",
       "0               0                    0 2013-01-01 02:00:00  12.92415   \n",
       "\n",
       "   from_long    to_lat  ...  Car_Cancellation  from_date_day_name  \\\n",
       "0   77.67229  12.92732  ...                 0             Tuesday   \n",
       "\n",
       "  from_date_time period_from_date booking_created_time period_booking_created  \\\n",
       "0       02:00:00       Late Night             02:00:00             Late Night   \n",
       "\n",
       "  booking_created_day difference difference_min   Distance_Km  \n",
       "0             Tuesday     0 days             0.0     3.975764  \n",
       "\n",
       "[1 rows x 21 columns]"
      ]
     },
     "execution_count": 18,
     "metadata": {},
     "output_type": "execute_result"
    }
   ],
   "source": [
    "df.head(1)"
   ]
  },
  {
   "cell_type": "code",
   "execution_count": 19,
   "id": "ec5012c0",
   "metadata": {},
   "outputs": [],
   "source": [
    "# Remove the columan which has been transform .\n",
    "df.drop(['from_lat','from_long','to_lat','to_long','difference','from_date','booking_created','from_date_time','booking_created_time'],axis='columns',inplace=True)\n"
   ]
  },
  {
   "cell_type": "markdown",
   "id": "13687218",
   "metadata": {},
   "source": [
    "## Divided the cancealtion in low and high range ."
   ]
  },
  {
   "cell_type": "code",
   "execution_count": null,
   "id": "e0d87480",
   "metadata": {},
   "outputs": [],
   "source": []
  },
  {
   "cell_type": "code",
   "execution_count": 20,
   "id": "328eef0f",
   "metadata": {},
   "outputs": [],
   "source": [
    "y = df[['from_area_id','Car_Cancellation']].copy() # made new data farme for easy calculation .\n",
    "y['count cancealtion']=y.loc[y['Car_Cancellation']==1].groupby('from_area_id').transform('count')\n",
    "y['count cancealtion']=y['count cancealtion'].fillna(0)\n",
    "y['sum_per_areaid']=df.groupby('from_area_id')['from_area_id'].transform('count')"
   ]
  },
  {
   "cell_type": "code",
   "execution_count": 21,
   "id": "b0e13022",
   "metadata": {},
   "outputs": [],
   "source": [
    "# y['count cancealtion%']=round((y['count cancealtion']/len(df))*100,2)\n",
    "y['count cancealtion%']=round((y['count cancealtion']/y['sum_per_areaid'])*100,2)"
   ]
  },
  {
   "cell_type": "code",
   "execution_count": 22,
   "id": "de01486c",
   "metadata": {},
   "outputs": [],
   "source": [
    "y['count cancealtion%']=y['count cancealtion%'].apply(lambda x :'Low' if x < 33.3 \n",
    "                                                                                 else ('Medium' if x < 66.6  else 'High'))"
   ]
  },
  {
   "cell_type": "code",
   "execution_count": 23,
   "id": "c0490a82",
   "metadata": {},
   "outputs": [],
   "source": [
    "#y['count cancealtion'].sum(axis = 0, skipna = True)"
   ]
  },
  {
   "cell_type": "code",
   "execution_count": 24,
   "id": "9b307db4",
   "metadata": {},
   "outputs": [
    {
     "data": {
      "text/html": [
       "<div>\n",
       "<style scoped>\n",
       "    .dataframe tbody tr th:only-of-type {\n",
       "        vertical-align: middle;\n",
       "    }\n",
       "\n",
       "    .dataframe tbody tr th {\n",
       "        vertical-align: top;\n",
       "    }\n",
       "\n",
       "    .dataframe thead th {\n",
       "        text-align: right;\n",
       "    }\n",
       "</style>\n",
       "<table border=\"1\" class=\"dataframe\">\n",
       "  <thead>\n",
       "    <tr style=\"text-align: right;\">\n",
       "      <th></th>\n",
       "      <th>from_area_id</th>\n",
       "      <th>Car_Cancellation</th>\n",
       "      <th>count cancealtion</th>\n",
       "      <th>sum_per_areaid</th>\n",
       "      <th>count cancealtion%</th>\n",
       "    </tr>\n",
       "  </thead>\n",
       "  <tbody>\n",
       "    <tr>\n",
       "      <th>2252</th>\n",
       "      <td>130.0</td>\n",
       "      <td>1</td>\n",
       "      <td>4.0</td>\n",
       "      <td>5</td>\n",
       "      <td>High</td>\n",
       "    </tr>\n",
       "    <tr>\n",
       "      <th>12938</th>\n",
       "      <td>130.0</td>\n",
       "      <td>1</td>\n",
       "      <td>4.0</td>\n",
       "      <td>5</td>\n",
       "      <td>High</td>\n",
       "    </tr>\n",
       "    <tr>\n",
       "      <th>14433</th>\n",
       "      <td>130.0</td>\n",
       "      <td>1</td>\n",
       "      <td>4.0</td>\n",
       "      <td>5</td>\n",
       "      <td>High</td>\n",
       "    </tr>\n",
       "    <tr>\n",
       "      <th>15336</th>\n",
       "      <td>130.0</td>\n",
       "      <td>1</td>\n",
       "      <td>4.0</td>\n",
       "      <td>5</td>\n",
       "      <td>High</td>\n",
       "    </tr>\n",
       "    <tr>\n",
       "      <th>15987</th>\n",
       "      <td>630.0</td>\n",
       "      <td>1</td>\n",
       "      <td>2.0</td>\n",
       "      <td>3</td>\n",
       "      <td>High</td>\n",
       "    </tr>\n",
       "    <tr>\n",
       "      <th>16668</th>\n",
       "      <td>1174.0</td>\n",
       "      <td>1</td>\n",
       "      <td>2.0</td>\n",
       "      <td>3</td>\n",
       "      <td>High</td>\n",
       "    </tr>\n",
       "    <tr>\n",
       "      <th>34763</th>\n",
       "      <td>138.0</td>\n",
       "      <td>1</td>\n",
       "      <td>1.0</td>\n",
       "      <td>1</td>\n",
       "      <td>High</td>\n",
       "    </tr>\n",
       "    <tr>\n",
       "      <th>34856</th>\n",
       "      <td>1174.0</td>\n",
       "      <td>1</td>\n",
       "      <td>2.0</td>\n",
       "      <td>3</td>\n",
       "      <td>High</td>\n",
       "    </tr>\n",
       "    <tr>\n",
       "      <th>38311</th>\n",
       "      <td>630.0</td>\n",
       "      <td>1</td>\n",
       "      <td>2.0</td>\n",
       "      <td>3</td>\n",
       "      <td>High</td>\n",
       "    </tr>\n",
       "    <tr>\n",
       "      <th>41012</th>\n",
       "      <td>1148.0</td>\n",
       "      <td>1</td>\n",
       "      <td>2.0</td>\n",
       "      <td>3</td>\n",
       "      <td>High</td>\n",
       "    </tr>\n",
       "    <tr>\n",
       "      <th>41795</th>\n",
       "      <td>1148.0</td>\n",
       "      <td>1</td>\n",
       "      <td>2.0</td>\n",
       "      <td>3</td>\n",
       "      <td>High</td>\n",
       "    </tr>\n",
       "  </tbody>\n",
       "</table>\n",
       "</div>"
      ],
      "text/plain": [
       "       from_area_id  Car_Cancellation  count cancealtion  sum_per_areaid  \\\n",
       "2252          130.0                 1                4.0               5   \n",
       "12938         130.0                 1                4.0               5   \n",
       "14433         130.0                 1                4.0               5   \n",
       "15336         130.0                 1                4.0               5   \n",
       "15987         630.0                 1                2.0               3   \n",
       "16668        1174.0                 1                2.0               3   \n",
       "34763         138.0                 1                1.0               1   \n",
       "34856        1174.0                 1                2.0               3   \n",
       "38311         630.0                 1                2.0               3   \n",
       "41012        1148.0                 1                2.0               3   \n",
       "41795        1148.0                 1                2.0               3   \n",
       "\n",
       "      count cancealtion%  \n",
       "2252                High  \n",
       "12938               High  \n",
       "14433               High  \n",
       "15336               High  \n",
       "15987               High  \n",
       "16668               High  \n",
       "34763               High  \n",
       "34856               High  \n",
       "38311               High  \n",
       "41012               High  \n",
       "41795               High  "
      ]
     },
     "execution_count": 24,
     "metadata": {},
     "output_type": "execute_result"
    }
   ],
   "source": [
    "y.loc[y['count cancealtion%']=='High']"
   ]
  },
  {
   "cell_type": "code",
   "execution_count": 25,
   "id": "ac5929a8",
   "metadata": {},
   "outputs": [],
   "source": [
    "df['from_area_id'] = y['count cancealtion%']"
   ]
  },
  {
   "cell_type": "code",
   "execution_count": 26,
   "id": "850b29c2",
   "metadata": {},
   "outputs": [
    {
     "data": {
      "text/html": [
       "<div>\n",
       "<style scoped>\n",
       "    .dataframe tbody tr th:only-of-type {\n",
       "        vertical-align: middle;\n",
       "    }\n",
       "\n",
       "    .dataframe tbody tr th {\n",
       "        vertical-align: top;\n",
       "    }\n",
       "\n",
       "    .dataframe thead th {\n",
       "        text-align: right;\n",
       "    }\n",
       "</style>\n",
       "<table border=\"1\" class=\"dataframe\">\n",
       "  <thead>\n",
       "    <tr style=\"text-align: right;\">\n",
       "      <th></th>\n",
       "      <th>travel_type_id</th>\n",
       "      <th>from_area_id</th>\n",
       "      <th>to_area_id</th>\n",
       "      <th>online_booking</th>\n",
       "      <th>mobile_site_booking</th>\n",
       "      <th>Car_Cancellation</th>\n",
       "      <th>from_date_day_name</th>\n",
       "      <th>period_from_date</th>\n",
       "      <th>period_booking_created</th>\n",
       "      <th>booking_created_day</th>\n",
       "      <th>difference_min</th>\n",
       "      <th>Distance_Km</th>\n",
       "    </tr>\n",
       "  </thead>\n",
       "  <tbody>\n",
       "    <tr>\n",
       "      <th>0</th>\n",
       "      <td>2</td>\n",
       "      <td>Low</td>\n",
       "      <td>448.0</td>\n",
       "      <td>0</td>\n",
       "      <td>0</td>\n",
       "      <td>0</td>\n",
       "      <td>Tuesday</td>\n",
       "      <td>Late Night</td>\n",
       "      <td>Late Night</td>\n",
       "      <td>Tuesday</td>\n",
       "      <td>0.0</td>\n",
       "      <td>3.975764</td>\n",
       "    </tr>\n",
       "  </tbody>\n",
       "</table>\n",
       "</div>"
      ],
      "text/plain": [
       "   travel_type_id from_area_id  to_area_id  online_booking  \\\n",
       "0               2          Low       448.0               0   \n",
       "\n",
       "   mobile_site_booking  Car_Cancellation from_date_day_name period_from_date  \\\n",
       "0                    0                 0            Tuesday       Late Night   \n",
       "\n",
       "  period_booking_created booking_created_day  difference_min   Distance_Km  \n",
       "0             Late Night             Tuesday              0.0     3.975764  "
      ]
     },
     "execution_count": 26,
     "metadata": {},
     "output_type": "execute_result"
    }
   ],
   "source": [
    "df.head(1)"
   ]
  },
  {
   "cell_type": "markdown",
   "id": "15599a69",
   "metadata": {},
   "source": [
    "## Data encoding for trave id "
   ]
  },
  {
   "cell_type": "code",
   "execution_count": 27,
   "id": "39b116b8",
   "metadata": {},
   "outputs": [
    {
     "data": {
      "text/html": [
       "<div>\n",
       "<style scoped>\n",
       "    .dataframe tbody tr th:only-of-type {\n",
       "        vertical-align: middle;\n",
       "    }\n",
       "\n",
       "    .dataframe tbody tr th {\n",
       "        vertical-align: top;\n",
       "    }\n",
       "\n",
       "    .dataframe thead th {\n",
       "        text-align: right;\n",
       "    }\n",
       "</style>\n",
       "<table border=\"1\" class=\"dataframe\">\n",
       "  <thead>\n",
       "    <tr style=\"text-align: right;\">\n",
       "      <th></th>\n",
       "      <th>2</th>\n",
       "      <th>3</th>\n",
       "    </tr>\n",
       "  </thead>\n",
       "  <tbody>\n",
       "    <tr>\n",
       "      <th>0</th>\n",
       "      <td>1</td>\n",
       "      <td>0</td>\n",
       "    </tr>\n",
       "    <tr>\n",
       "      <th>1</th>\n",
       "      <td>1</td>\n",
       "      <td>0</td>\n",
       "    </tr>\n",
       "    <tr>\n",
       "      <th>2</th>\n",
       "      <td>1</td>\n",
       "      <td>0</td>\n",
       "    </tr>\n",
       "    <tr>\n",
       "      <th>3</th>\n",
       "      <td>1</td>\n",
       "      <td>0</td>\n",
       "    </tr>\n",
       "    <tr>\n",
       "      <th>4</th>\n",
       "      <td>1</td>\n",
       "      <td>0</td>\n",
       "    </tr>\n",
       "  </tbody>\n",
       "</table>\n",
       "</div>"
      ],
      "text/plain": [
       "   2  3\n",
       "0  1  0\n",
       "1  1  0\n",
       "2  1  0\n",
       "3  1  0\n",
       "4  1  0"
      ]
     },
     "execution_count": 27,
     "metadata": {},
     "output_type": "execute_result"
    }
   ],
   "source": [
    "traveltype = pd.get_dummies(df['travel_type_id'],drop_first=True)\n",
    "traveltype.head()\n",
    "#One Hot Encoding if number of distinct values is more than 5\n",
    "#Label Encoding if number of distinct values is less than 5"
   ]
  },
  {
   "cell_type": "code",
   "execution_count": 28,
   "id": "86c0a637",
   "metadata": {},
   "outputs": [],
   "source": [
    "df = pd.concat([traveltype,df],axis=1)\n",
    "df = df.drop(['travel_type_id'],axis=1)"
   ]
  },
  {
   "cell_type": "markdown",
   "id": "de16b128",
   "metadata": {},
   "source": [
    "## Data Visualization"
   ]
  },
  {
   "cell_type": "code",
   "execution_count": 29,
   "id": "8959d114",
   "metadata": {},
   "outputs": [
    {
     "data": {
      "text/plain": [
       "Low       43333\n",
       "Medium       87\n",
       "High         11\n",
       "Name: from_area_id, dtype: int64"
      ]
     },
     "execution_count": 29,
     "metadata": {},
     "output_type": "execute_result"
    }
   ],
   "source": [
    "df['from_area_id'].value_counts()"
   ]
  },
  {
   "cell_type": "code",
   "execution_count": 30,
   "id": "984b47af",
   "metadata": {},
   "outputs": [
    {
     "name": "stdout",
     "output_type": "stream",
     "text": [
      "<class 'pandas.core.frame.DataFrame'>\n",
      "RangeIndex: 43431 entries, 0 to 43430\n",
      "Data columns (total 13 columns):\n",
      " #   Column                  Non-Null Count  Dtype  \n",
      "---  ------                  --------------  -----  \n",
      " 0   2                       43431 non-null  uint8  \n",
      " 1   3                       43431 non-null  uint8  \n",
      " 2   from_area_id            43431 non-null  object \n",
      " 3   to_area_id              43431 non-null  float64\n",
      " 4   online_booking          43431 non-null  int64  \n",
      " 5   mobile_site_booking     43431 non-null  int64  \n",
      " 6   Car_Cancellation        43431 non-null  int64  \n",
      " 7   from_date_day_name      43431 non-null  object \n",
      " 8   period_from_date        43431 non-null  object \n",
      " 9   period_booking_created  43431 non-null  object \n",
      " 10  booking_created_day     43431 non-null  object \n",
      " 11  difference_min          43431 non-null  float64\n",
      " 12  Distance_Km             43431 non-null  float64\n",
      "dtypes: float64(3), int64(3), object(5), uint8(2)\n",
      "memory usage: 3.7+ MB\n"
     ]
    }
   ],
   "source": [
    "df.info()"
   ]
  },
  {
   "cell_type": "code",
   "execution_count": 31,
   "id": "36d6d7e6",
   "metadata": {},
   "outputs": [
    {
     "data": {
      "image/png": "[encoded data removed]",
      "text/plain": [
       "<Figure size 432x288 with 1 Axes>"
      ]
     },
     "metadata": {
      "needs_background": "light"
     },
     "output_type": "display_data"
    },
    {
     "data": {
      "image/png": "[encoded data removed]",
      "text/plain": [
       "<Figure size 432x288 with 1 Axes>"
      ]
     },
     "metadata": {
      "needs_background": "light"
     },
     "output_type": "display_data"
    },
    {
     "data": {
      "image/png": "[encoded data removed]",
      "text/plain": [
       "<Figure size 432x288 with 1 Axes>"
      ]
     },
     "metadata": {
      "needs_background": "light"
     },
     "output_type": "display_data"
    },
    {
     "data": {
      "image/png": "[encoded data removed]",
      "text/plain": [
       "<Figure size 432x288 with 1 Axes>"
      ]
     },
     "metadata": {
      "needs_background": "light"
     },
     "output_type": "display_data"
    },
    {
     "data": {
      "image/png": "[encoded data removed]",
      "text/plain": [
       "<Figure size 432x288 with 1 Axes>"
      ]
     },
     "metadata": {
      "needs_background": "light"
     },
     "output_type": "display_data"
    }
   ],
   "source": [
    "for col in df.columns:\n",
    "    if df[col].dtype == 'object':\n",
    "        df[col].value_counts().plot.bar()\n",
    "        plt.title(col)\n",
    "        plt.show()"
   ]
  },
  {
   "cell_type": "code",
   "execution_count": 32,
   "id": "105d562a",
   "metadata": {},
   "outputs": [],
   "source": [
    "char = df.select_dtypes(include='object')\n",
    "num = df.select_dtypes(include='number')"
   ]
  },
  {
   "cell_type": "code",
   "execution_count": 33,
   "id": "ecde13cf",
   "metadata": {},
   "outputs": [
    {
     "data": {
      "text/html": [
       "<div>\n",
       "<style scoped>\n",
       "    .dataframe tbody tr th:only-of-type {\n",
       "        vertical-align: middle;\n",
       "    }\n",
       "\n",
       "    .dataframe tbody tr th {\n",
       "        vertical-align: top;\n",
       "    }\n",
       "\n",
       "    .dataframe thead th {\n",
       "        text-align: right;\n",
       "    }\n",
       "</style>\n",
       "<table border=\"1\" class=\"dataframe\">\n",
       "  <thead>\n",
       "    <tr style=\"text-align: right;\">\n",
       "      <th></th>\n",
       "      <th>from_area_id</th>\n",
       "      <th>from_date_day_name</th>\n",
       "      <th>period_from_date</th>\n",
       "      <th>period_booking_created</th>\n",
       "      <th>booking_created_day</th>\n",
       "    </tr>\n",
       "  </thead>\n",
       "  <tbody>\n",
       "    <tr>\n",
       "      <th>0</th>\n",
       "      <td>Low</td>\n",
       "      <td>Tuesday</td>\n",
       "      <td>Late Night</td>\n",
       "      <td>Late Night</td>\n",
       "      <td>Tuesday</td>\n",
       "    </tr>\n",
       "    <tr>\n",
       "      <th>1</th>\n",
       "      <td>Low</td>\n",
       "      <td>Tuesday</td>\n",
       "      <td>Morning</td>\n",
       "      <td>Morning</td>\n",
       "      <td>Tuesday</td>\n",
       "    </tr>\n",
       "    <tr>\n",
       "      <th>2</th>\n",
       "      <td>Low</td>\n",
       "      <td>Tuesday</td>\n",
       "      <td>Late Night</td>\n",
       "      <td>Late Night</td>\n",
       "      <td>Tuesday</td>\n",
       "    </tr>\n",
       "    <tr>\n",
       "      <th>3</th>\n",
       "      <td>Low</td>\n",
       "      <td>Tuesday</td>\n",
       "      <td>Early Morning</td>\n",
       "      <td>Early Morning</td>\n",
       "      <td>Tuesday</td>\n",
       "    </tr>\n",
       "    <tr>\n",
       "      <th>4</th>\n",
       "      <td>Low</td>\n",
       "      <td>Tuesday</td>\n",
       "      <td>Morning</td>\n",
       "      <td>Morning</td>\n",
       "      <td>Tuesday</td>\n",
       "    </tr>\n",
       "  </tbody>\n",
       "</table>\n",
       "</div>"
      ],
      "text/plain": [
       "  from_area_id from_date_day_name period_from_date period_booking_created  \\\n",
       "0          Low            Tuesday       Late Night             Late Night   \n",
       "1          Low            Tuesday          Morning                Morning   \n",
       "2          Low            Tuesday       Late Night             Late Night   \n",
       "3          Low            Tuesday    Early Morning          Early Morning   \n",
       "4          Low            Tuesday          Morning                Morning   \n",
       "\n",
       "  booking_created_day  \n",
       "0             Tuesday  \n",
       "1             Tuesday  \n",
       "2             Tuesday  \n",
       "3             Tuesday  \n",
       "4             Tuesday  "
      ]
     },
     "execution_count": 33,
     "metadata": {},
     "output_type": "execute_result"
    }
   ],
   "source": [
    "char.head()"
   ]
  },
  {
   "cell_type": "code",
   "execution_count": 34,
   "id": "25df706d",
   "metadata": {},
   "outputs": [
    {
     "data": {
      "image/png": "[encoded data removed]",
      "text/plain": [
       "<Figure size 432x288 with 1 Axes>"
      ]
     },
     "metadata": {
      "needs_background": "light"
     },
     "output_type": "display_data"
    },
    {
     "data": {
      "image/png": "[encoded data removed]",
      "text/plain": [
       "<Figure size 432x288 with 1 Axes>"
      ]
     },
     "metadata": {
      "needs_background": "light"
     },
     "output_type": "display_data"
    },
    {
     "data": {
      "image/png": "[encoded data removed]",
      "text/plain": [
       "<Figure size 432x288 with 1 Axes>"
      ]
     },
     "metadata": {
      "needs_background": "light"
     },
     "output_type": "display_data"
    },
    {
     "data": {
      "image/png": "[encoded data removed]",
      "text/plain": [
       "<Figure size 432x288 with 1 Axes>"
      ]
     },
     "metadata": {
      "needs_background": "light"
     },
     "output_type": "display_data"
    },
    {
     "data": {
      "image/png": "[encoded data removed]",
      "text/plain": [
       "<Figure size 432x288 with 1 Axes>"
      ]
     },
     "metadata": {
      "needs_background": "light"
     },
     "output_type": "display_data"
    }
   ],
   "source": [
    "from numpy import mean\n",
    "for col in (char.columns):\n",
    "    plt.figure()\n",
    "    sns.barplot(x=col,y=df['Car_Cancellation'],data=df,estimator=mean)\n",
    "plt.show()"
   ]
  },
  {
   "cell_type": "markdown",
   "id": "4d590d00",
   "metadata": {},
   "source": [
    "##  Data encoding ."
   ]
  },
  {
   "cell_type": "code",
   "execution_count": 35,
   "id": "dd2d6154",
   "metadata": {},
   "outputs": [],
   "source": [
    "char=pd.get_dummies(char, drop_first = True)"
   ]
  },
  {
   "cell_type": "code",
   "execution_count": 36,
   "id": "7c217d27",
   "metadata": {},
   "outputs": [
    {
     "data": {
      "text/plain": [
       "(43431, 24)"
      ]
     },
     "execution_count": 36,
     "metadata": {},
     "output_type": "execute_result"
    }
   ],
   "source": [
    "char.shape"
   ]
  },
  {
   "cell_type": "code",
   "execution_count": 37,
   "id": "097bcac5",
   "metadata": {},
   "outputs": [
    {
     "data": {
      "text/plain": [
       "(43431, 32)"
      ]
     },
     "execution_count": 37,
     "metadata": {},
     "output_type": "execute_result"
    }
   ],
   "source": [
    "df_new = pd.concat([num,char],axis=1,join='inner')\n",
    "df_new.shape"
   ]
  },
  {
   "cell_type": "code",
   "execution_count": 38,
   "id": "bf924278",
   "metadata": {},
   "outputs": [
    {
     "data": {
      "text/html": [
       "<div>\n",
       "<style scoped>\n",
       "    .dataframe tbody tr th:only-of-type {\n",
       "        vertical-align: middle;\n",
       "    }\n",
       "\n",
       "    .dataframe tbody tr th {\n",
       "        vertical-align: top;\n",
       "    }\n",
       "\n",
       "    .dataframe thead th {\n",
       "        text-align: right;\n",
       "    }\n",
       "</style>\n",
       "<table border=\"1\" class=\"dataframe\">\n",
       "  <thead>\n",
       "    <tr style=\"text-align: right;\">\n",
       "      <th></th>\n",
       "      <th>2</th>\n",
       "      <th>3</th>\n",
       "      <th>to_area_id</th>\n",
       "      <th>online_booking</th>\n",
       "      <th>mobile_site_booking</th>\n",
       "      <th>Car_Cancellation</th>\n",
       "      <th>difference_min</th>\n",
       "      <th>Distance_Km</th>\n",
       "      <th>from_area_id_Low</th>\n",
       "      <th>from_area_id_Medium</th>\n",
       "      <th>...</th>\n",
       "      <th>period_booking_created_Late Night</th>\n",
       "      <th>period_booking_created_Morning</th>\n",
       "      <th>period_booking_created_Night</th>\n",
       "      <th>period_booking_created_Noon</th>\n",
       "      <th>booking_created_day_Monday</th>\n",
       "      <th>booking_created_day_Saturday</th>\n",
       "      <th>booking_created_day_Sunday</th>\n",
       "      <th>booking_created_day_Thursday</th>\n",
       "      <th>booking_created_day_Tuesday</th>\n",
       "      <th>booking_created_day_Wednesday</th>\n",
       "    </tr>\n",
       "  </thead>\n",
       "  <tbody>\n",
       "    <tr>\n",
       "      <th>0</th>\n",
       "      <td>1</td>\n",
       "      <td>0</td>\n",
       "      <td>448.0</td>\n",
       "      <td>0</td>\n",
       "      <td>0</td>\n",
       "      <td>0</td>\n",
       "      <td>0.0</td>\n",
       "      <td>3.975764</td>\n",
       "      <td>1</td>\n",
       "      <td>0</td>\n",
       "      <td>...</td>\n",
       "      <td>1</td>\n",
       "      <td>0</td>\n",
       "      <td>0</td>\n",
       "      <td>0</td>\n",
       "      <td>0</td>\n",
       "      <td>0</td>\n",
       "      <td>0</td>\n",
       "      <td>0</td>\n",
       "      <td>1</td>\n",
       "      <td>0</td>\n",
       "    </tr>\n",
       "    <tr>\n",
       "      <th>1</th>\n",
       "      <td>1</td>\n",
       "      <td>0</td>\n",
       "      <td>540.0</td>\n",
       "      <td>0</td>\n",
       "      <td>0</td>\n",
       "      <td>0</td>\n",
       "      <td>0.0</td>\n",
       "      <td>13.995033</td>\n",
       "      <td>1</td>\n",
       "      <td>0</td>\n",
       "      <td>...</td>\n",
       "      <td>0</td>\n",
       "      <td>1</td>\n",
       "      <td>0</td>\n",
       "      <td>0</td>\n",
       "      <td>0</td>\n",
       "      <td>0</td>\n",
       "      <td>0</td>\n",
       "      <td>0</td>\n",
       "      <td>1</td>\n",
       "      <td>0</td>\n",
       "    </tr>\n",
       "    <tr>\n",
       "      <th>2</th>\n",
       "      <td>1</td>\n",
       "      <td>0</td>\n",
       "      <td>1034.0</td>\n",
       "      <td>0</td>\n",
       "      <td>0</td>\n",
       "      <td>0</td>\n",
       "      <td>0.0</td>\n",
       "      <td>12.708414</td>\n",
       "      <td>1</td>\n",
       "      <td>0</td>\n",
       "      <td>...</td>\n",
       "      <td>1</td>\n",
       "      <td>0</td>\n",
       "      <td>0</td>\n",
       "      <td>0</td>\n",
       "      <td>0</td>\n",
       "      <td>0</td>\n",
       "      <td>0</td>\n",
       "      <td>0</td>\n",
       "      <td>1</td>\n",
       "      <td>0</td>\n",
       "    </tr>\n",
       "    <tr>\n",
       "      <th>3</th>\n",
       "      <td>1</td>\n",
       "      <td>0</td>\n",
       "      <td>398.0</td>\n",
       "      <td>0</td>\n",
       "      <td>0</td>\n",
       "      <td>0</td>\n",
       "      <td>0.0</td>\n",
       "      <td>9.525153</td>\n",
       "      <td>1</td>\n",
       "      <td>0</td>\n",
       "      <td>...</td>\n",
       "      <td>0</td>\n",
       "      <td>0</td>\n",
       "      <td>0</td>\n",
       "      <td>0</td>\n",
       "      <td>0</td>\n",
       "      <td>0</td>\n",
       "      <td>0</td>\n",
       "      <td>0</td>\n",
       "      <td>1</td>\n",
       "      <td>0</td>\n",
       "    </tr>\n",
       "    <tr>\n",
       "      <th>4</th>\n",
       "      <td>1</td>\n",
       "      <td>0</td>\n",
       "      <td>849.0</td>\n",
       "      <td>0</td>\n",
       "      <td>0</td>\n",
       "      <td>0</td>\n",
       "      <td>0.0</td>\n",
       "      <td>14.699782</td>\n",
       "      <td>1</td>\n",
       "      <td>0</td>\n",
       "      <td>...</td>\n",
       "      <td>0</td>\n",
       "      <td>1</td>\n",
       "      <td>0</td>\n",
       "      <td>0</td>\n",
       "      <td>0</td>\n",
       "      <td>0</td>\n",
       "      <td>0</td>\n",
       "      <td>0</td>\n",
       "      <td>1</td>\n",
       "      <td>0</td>\n",
       "    </tr>\n",
       "  </tbody>\n",
       "</table>\n",
       "<p>5 rows × 32 columns</p>\n",
       "</div>"
      ],
      "text/plain": [
       "   2  3  to_area_id  online_booking  mobile_site_booking  Car_Cancellation  \\\n",
       "0  1  0       448.0               0                    0                 0   \n",
       "1  1  0       540.0               0                    0                 0   \n",
       "2  1  0      1034.0               0                    0                 0   \n",
       "3  1  0       398.0               0                    0                 0   \n",
       "4  1  0       849.0               0                    0                 0   \n",
       "\n",
       "   difference_min   Distance_Km  from_area_id_Low  from_area_id_Medium  ...  \\\n",
       "0              0.0     3.975764                 1                    0  ...   \n",
       "1              0.0    13.995033                 1                    0  ...   \n",
       "2              0.0    12.708414                 1                    0  ...   \n",
       "3              0.0     9.525153                 1                    0  ...   \n",
       "4              0.0    14.699782                 1                    0  ...   \n",
       "\n",
       "   period_booking_created_Late Night  period_booking_created_Morning  \\\n",
       "0                                  1                               0   \n",
       "1                                  0                               1   \n",
       "2                                  1                               0   \n",
       "3                                  0                               0   \n",
       "4                                  0                               1   \n",
       "\n",
       "   period_booking_created_Night  period_booking_created_Noon  \\\n",
       "0                             0                            0   \n",
       "1                             0                            0   \n",
       "2                             0                            0   \n",
       "3                             0                            0   \n",
       "4                             0                            0   \n",
       "\n",
       "   booking_created_day_Monday  booking_created_day_Saturday  \\\n",
       "0                           0                             0   \n",
       "1                           0                             0   \n",
       "2                           0                             0   \n",
       "3                           0                             0   \n",
       "4                           0                             0   \n",
       "\n",
       "   booking_created_day_Sunday  booking_created_day_Thursday  \\\n",
       "0                           0                             0   \n",
       "1                           0                             0   \n",
       "2                           0                             0   \n",
       "3                           0                             0   \n",
       "4                           0                             0   \n",
       "\n",
       "   booking_created_day_Tuesday  booking_created_day_Wednesday  \n",
       "0                            1                              0  \n",
       "1                            1                              0  \n",
       "2                            1                              0  \n",
       "3                            1                              0  \n",
       "4                            1                              0  \n",
       "\n",
       "[5 rows x 32 columns]"
      ]
     },
     "execution_count": 38,
     "metadata": {},
     "output_type": "execute_result"
    }
   ],
   "source": [
    "df_new.head()"
   ]
  },
  {
   "cell_type": "code",
   "execution_count": 39,
   "id": "52add5f3",
   "metadata": {},
   "outputs": [],
   "source": [
    "df_new.drop(['to_area_id'],axis='columns',inplace=True)"
   ]
  },
  {
   "cell_type": "markdown",
   "id": "4917eee9",
   "metadata": {},
   "source": [
    "- divied the the data into features and target varable \n",
    "\n"
   ]
  },
  {
   "cell_type": "code",
   "execution_count": 40,
   "id": "a01e6064",
   "metadata": {},
   "outputs": [],
   "source": [
    "x= df_new.drop(['Car_Cancellation'],axis='columns')\n",
    "y= df_new[['Car_Cancellation']]"
   ]
  },
  {
   "cell_type": "code",
   "execution_count": 41,
   "id": "285d6991",
   "metadata": {},
   "outputs": [
    {
     "data": {
      "text/html": [
       "<div>\n",
       "<style scoped>\n",
       "    .dataframe tbody tr th:only-of-type {\n",
       "        vertical-align: middle;\n",
       "    }\n",
       "\n",
       "    .dataframe tbody tr th {\n",
       "        vertical-align: top;\n",
       "    }\n",
       "\n",
       "    .dataframe thead th {\n",
       "        text-align: right;\n",
       "    }\n",
       "</style>\n",
       "<table border=\"1\" class=\"dataframe\">\n",
       "  <thead>\n",
       "    <tr style=\"text-align: right;\">\n",
       "      <th></th>\n",
       "      <th>2</th>\n",
       "      <th>3</th>\n",
       "      <th>online_booking</th>\n",
       "      <th>mobile_site_booking</th>\n",
       "      <th>difference_min</th>\n",
       "      <th>Distance_Km</th>\n",
       "      <th>from_area_id_Low</th>\n",
       "      <th>from_area_id_Medium</th>\n",
       "      <th>from_date_day_name_Monday</th>\n",
       "      <th>from_date_day_name_Saturday</th>\n",
       "      <th>...</th>\n",
       "      <th>period_booking_created_Late Night</th>\n",
       "      <th>period_booking_created_Morning</th>\n",
       "      <th>period_booking_created_Night</th>\n",
       "      <th>period_booking_created_Noon</th>\n",
       "      <th>booking_created_day_Monday</th>\n",
       "      <th>booking_created_day_Saturday</th>\n",
       "      <th>booking_created_day_Sunday</th>\n",
       "      <th>booking_created_day_Thursday</th>\n",
       "      <th>booking_created_day_Tuesday</th>\n",
       "      <th>booking_created_day_Wednesday</th>\n",
       "    </tr>\n",
       "  </thead>\n",
       "  <tbody>\n",
       "    <tr>\n",
       "      <th>0</th>\n",
       "      <td>1</td>\n",
       "      <td>0</td>\n",
       "      <td>0</td>\n",
       "      <td>0</td>\n",
       "      <td>0.0</td>\n",
       "      <td>3.975764</td>\n",
       "      <td>1</td>\n",
       "      <td>0</td>\n",
       "      <td>0</td>\n",
       "      <td>0</td>\n",
       "      <td>...</td>\n",
       "      <td>1</td>\n",
       "      <td>0</td>\n",
       "      <td>0</td>\n",
       "      <td>0</td>\n",
       "      <td>0</td>\n",
       "      <td>0</td>\n",
       "      <td>0</td>\n",
       "      <td>0</td>\n",
       "      <td>1</td>\n",
       "      <td>0</td>\n",
       "    </tr>\n",
       "    <tr>\n",
       "      <th>1</th>\n",
       "      <td>1</td>\n",
       "      <td>0</td>\n",
       "      <td>0</td>\n",
       "      <td>0</td>\n",
       "      <td>0.0</td>\n",
       "      <td>13.995033</td>\n",
       "      <td>1</td>\n",
       "      <td>0</td>\n",
       "      <td>0</td>\n",
       "      <td>0</td>\n",
       "      <td>...</td>\n",
       "      <td>0</td>\n",
       "      <td>1</td>\n",
       "      <td>0</td>\n",
       "      <td>0</td>\n",
       "      <td>0</td>\n",
       "      <td>0</td>\n",
       "      <td>0</td>\n",
       "      <td>0</td>\n",
       "      <td>1</td>\n",
       "      <td>0</td>\n",
       "    </tr>\n",
       "    <tr>\n",
       "      <th>2</th>\n",
       "      <td>1</td>\n",
       "      <td>0</td>\n",
       "      <td>0</td>\n",
       "      <td>0</td>\n",
       "      <td>0.0</td>\n",
       "      <td>12.708414</td>\n",
       "      <td>1</td>\n",
       "      <td>0</td>\n",
       "      <td>0</td>\n",
       "      <td>0</td>\n",
       "      <td>...</td>\n",
       "      <td>1</td>\n",
       "      <td>0</td>\n",
       "      <td>0</td>\n",
       "      <td>0</td>\n",
       "      <td>0</td>\n",
       "      <td>0</td>\n",
       "      <td>0</td>\n",
       "      <td>0</td>\n",
       "      <td>1</td>\n",
       "      <td>0</td>\n",
       "    </tr>\n",
       "    <tr>\n",
       "      <th>3</th>\n",
       "      <td>1</td>\n",
       "      <td>0</td>\n",
       "      <td>0</td>\n",
       "      <td>0</td>\n",
       "      <td>0.0</td>\n",
       "      <td>9.525153</td>\n",
       "      <td>1</td>\n",
       "      <td>0</td>\n",
       "      <td>0</td>\n",
       "      <td>0</td>\n",
       "      <td>...</td>\n",
       "      <td>0</td>\n",
       "      <td>0</td>\n",
       "      <td>0</td>\n",
       "      <td>0</td>\n",
       "      <td>0</td>\n",
       "      <td>0</td>\n",
       "      <td>0</td>\n",
       "      <td>0</td>\n",
       "      <td>1</td>\n",
       "      <td>0</td>\n",
       "    </tr>\n",
       "    <tr>\n",
       "      <th>4</th>\n",
       "      <td>1</td>\n",
       "      <td>0</td>\n",
       "      <td>0</td>\n",
       "      <td>0</td>\n",
       "      <td>0.0</td>\n",
       "      <td>14.699782</td>\n",
       "      <td>1</td>\n",
       "      <td>0</td>\n",
       "      <td>0</td>\n",
       "      <td>0</td>\n",
       "      <td>...</td>\n",
       "      <td>0</td>\n",
       "      <td>1</td>\n",
       "      <td>0</td>\n",
       "      <td>0</td>\n",
       "      <td>0</td>\n",
       "      <td>0</td>\n",
       "      <td>0</td>\n",
       "      <td>0</td>\n",
       "      <td>1</td>\n",
       "      <td>0</td>\n",
       "    </tr>\n",
       "  </tbody>\n",
       "</table>\n",
       "<p>5 rows × 30 columns</p>\n",
       "</div>"
      ],
      "text/plain": [
       "   2  3  online_booking  mobile_site_booking  difference_min   Distance_Km  \\\n",
       "0  1  0               0                    0              0.0     3.975764   \n",
       "1  1  0               0                    0              0.0    13.995033   \n",
       "2  1  0               0                    0              0.0    12.708414   \n",
       "3  1  0               0                    0              0.0     9.525153   \n",
       "4  1  0               0                    0              0.0    14.699782   \n",
       "\n",
       "   from_area_id_Low  from_area_id_Medium  from_date_day_name_Monday  \\\n",
       "0                 1                    0                          0   \n",
       "1                 1                    0                          0   \n",
       "2                 1                    0                          0   \n",
       "3                 1                    0                          0   \n",
       "4                 1                    0                          0   \n",
       "\n",
       "   from_date_day_name_Saturday  ...  period_booking_created_Late Night  \\\n",
       "0                            0  ...                                  1   \n",
       "1                            0  ...                                  0   \n",
       "2                            0  ...                                  1   \n",
       "3                            0  ...                                  0   \n",
       "4                            0  ...                                  0   \n",
       "\n",
       "   period_booking_created_Morning  period_booking_created_Night  \\\n",
       "0                               0                             0   \n",
       "1                               1                             0   \n",
       "2                               0                             0   \n",
       "3                               0                             0   \n",
       "4                               1                             0   \n",
       "\n",
       "   period_booking_created_Noon  booking_created_day_Monday  \\\n",
       "0                            0                           0   \n",
       "1                            0                           0   \n",
       "2                            0                           0   \n",
       "3                            0                           0   \n",
       "4                            0                           0   \n",
       "\n",
       "   booking_created_day_Saturday  booking_created_day_Sunday  \\\n",
       "0                             0                           0   \n",
       "1                             0                           0   \n",
       "2                             0                           0   \n",
       "3                             0                           0   \n",
       "4                             0                           0   \n",
       "\n",
       "   booking_created_day_Thursday  booking_created_day_Tuesday  \\\n",
       "0                             0                            1   \n",
       "1                             0                            1   \n",
       "2                             0                            1   \n",
       "3                             0                            1   \n",
       "4                             0                            1   \n",
       "\n",
       "   booking_created_day_Wednesday  \n",
       "0                              0  \n",
       "1                              0  \n",
       "2                              0  \n",
       "3                              0  \n",
       "4                              0  \n",
       "\n",
       "[5 rows x 30 columns]"
      ]
     },
     "execution_count": 41,
     "metadata": {},
     "output_type": "execute_result"
    }
   ],
   "source": [
    "x.head()\n"
   ]
  },
  {
   "cell_type": "code",
   "execution_count": 42,
   "id": "66628c76",
   "metadata": {},
   "outputs": [
    {
     "data": {
      "text/html": [
       "<div>\n",
       "<style scoped>\n",
       "    .dataframe tbody tr th:only-of-type {\n",
       "        vertical-align: middle;\n",
       "    }\n",
       "\n",
       "    .dataframe tbody tr th {\n",
       "        vertical-align: top;\n",
       "    }\n",
       "\n",
       "    .dataframe thead th {\n",
       "        text-align: right;\n",
       "    }\n",
       "</style>\n",
       "<table border=\"1\" class=\"dataframe\">\n",
       "  <thead>\n",
       "    <tr style=\"text-align: right;\">\n",
       "      <th></th>\n",
       "      <th>Car_Cancellation</th>\n",
       "    </tr>\n",
       "  </thead>\n",
       "  <tbody>\n",
       "    <tr>\n",
       "      <th>0</th>\n",
       "      <td>0</td>\n",
       "    </tr>\n",
       "    <tr>\n",
       "      <th>1</th>\n",
       "      <td>0</td>\n",
       "    </tr>\n",
       "    <tr>\n",
       "      <th>2</th>\n",
       "      <td>0</td>\n",
       "    </tr>\n",
       "    <tr>\n",
       "      <th>3</th>\n",
       "      <td>0</td>\n",
       "    </tr>\n",
       "    <tr>\n",
       "      <th>4</th>\n",
       "      <td>0</td>\n",
       "    </tr>\n",
       "  </tbody>\n",
       "</table>\n",
       "</div>"
      ],
      "text/plain": [
       "   Car_Cancellation\n",
       "0                 0\n",
       "1                 0\n",
       "2                 0\n",
       "3                 0\n",
       "4                 0"
      ]
     },
     "execution_count": 42,
     "metadata": {},
     "output_type": "execute_result"
    }
   ],
   "source": [
    "y.head()\n"
   ]
  },
  {
   "cell_type": "markdown",
   "id": "7d8059a9",
   "metadata": {},
   "source": [
    "## Train validation Split ."
   ]
  },
  {
   "cell_type": "code",
   "execution_count": 43,
   "id": "f19566b0",
   "metadata": {},
   "outputs": [],
   "source": [
    "from sklearn.model_selection import train_test_split\n",
    "x_train, x_test, y_train, y_test = train_test_split(x, y, test_size=0.3)\n",
    "# X_train.shape ,X_test.shape, y_train.shape, y_test.shape "
   ]
  },
  {
   "cell_type": "code",
   "execution_count": null,
   "id": "fdf50d2c",
   "metadata": {},
   "outputs": [],
   "source": []
  },
  {
   "cell_type": "markdown",
   "id": "d5578662",
   "metadata": {},
   "source": [
    "## 6. Ensemble Learning Models\n",
    "\n",
    "- Logistic Regression, Random Forest Classifier, Bagging Classifier and Support Vector Machine are used vote with Voting Classifier, hard voting is made. This model is used to fit and predict data in the following sections."
   ]
  },
  {
   "cell_type": "code",
   "execution_count": 44,
   "id": "c64f6e4b",
   "metadata": {},
   "outputs": [],
   "source": [
    "# lr = LogisticRegression()\n",
    "# rf = RandomForestClassifier(n_estimators=10)\n",
    "# bg = BaggingClassifier(DecisionTreeClassifier(), max_samples = 0.5)\n",
    "# clf = SVC(kernel = 'linear')\n",
    "\n",
    "# evc = VotingClassifier(estimators =[('lr', lr),('rf', rf),('bg', bg),('clf', clf)], \n",
    "#                        voting = 'hard')"
   ]
  },
  {
   "cell_type": "code",
   "execution_count": null,
   "id": "b550545a",
   "metadata": {},
   "outputs": [],
   "source": [
    "# evc.fit(x_train, y_train)\n",
    "\n",
    "# predicted_data = evc.predict(x_test)\n",
    "# print ('Score of the Model:')\n",
    "# print (evc.score(x_test, y_test))\n",
    "# print ('Confusion Matrix:')\n",
    "# print (confusion_matrix(x_test, predicted_data))"
   ]
  },
  {
   "cell_type": "code",
   "execution_count": 94,
   "id": "d7a9f29b",
   "metadata": {},
   "outputs": [],
   "source": [
    "# rf = RandomForestClassifier()\n",
    "# rf.fit(x.values, y.values.ravel())\n",
    "\n",
    "# importance = rf.feature_importances_\n",
    "# importance = pd.DataFrame(importance, index = x.columns, columns=['Importance'])\n",
    "\n",
    "# feats = {}\n",
    "# for feature, importance in zip(x.columns,rf.feature_importances_):\n",
    "#     feats[feature] = importance\n",
    "    \n",
    "# print (feats)\n",
    "# importances = pd.DataFrame.from_dict(feats, orient='index').rename(columns={0: \n",
    "#                                                                             'Gini-importance'})\n",
    "# importances.sort_values(by='Gini-importance').plot(kind='bar', rot=45)"
   ]
  },
  {
   "cell_type": "markdown",
   "id": "f07d92de",
   "metadata": {},
   "source": [
    "# Trying diffrent model "
   ]
  },
  {
   "cell_type": "code",
   "execution_count": 63,
   "id": "e484f0f6",
   "metadata": {},
   "outputs": [
    {
     "name": "stderr",
     "output_type": "stream",
     "text": [
      "/opt/anaconda3/lib/python3.8/site-packages/sklearn/utils/validation.py:63: DataConversionWarning: A column-vector y was passed when a 1d array was expected. Please change the shape of y to (n_samples, ), for example using ravel().\n",
      "  return f(*args, **kwargs)\n",
      "/opt/anaconda3/lib/python3.8/site-packages/sklearn/linear_model/_logistic.py:763: ConvergenceWarning: lbfgs failed to converge (status=1):\n",
      "STOP: TOTAL NO. of ITERATIONS REACHED LIMIT.\n",
      "\n",
      "Increase the number of iterations (max_iter) or scale the data as shown in:\n",
      "    https://scikit-learn.org/stable/modules/preprocessing.html\n",
      "Please also refer to the documentation for alternative solver options:\n",
      "    https://scikit-learn.org/stable/modules/linear_model.html#logistic-regression\n",
      "  n_iter_i = _check_optimize_result(\n"
     ]
    },
    {
     "data": {
      "text/plain": [
       "LogisticRegression(random_state=4)"
      ]
     },
     "execution_count": 63,
     "metadata": {},
     "output_type": "execute_result"
    }
   ],
   "source": [
    "\n",
    "from sklearn.linear_model import LogisticRegression\n",
    "lr = LogisticRegression(random_state=4)\n",
    "lr.fit(x_train,y_train)\n"
   ]
  },
  {
   "cell_type": "code",
   "execution_count": 48,
   "id": "045f6e45",
   "metadata": {},
   "outputs": [],
   "source": [
    "from sklearn.tree import DecisionTreeClassifier\n",
    "dtc = DecisionTreeClassifier(criterion='gini',random_state=4)"
   ]
  },
  {
   "cell_type": "code",
   "execution_count": 50,
   "id": "4eb9a8a4",
   "metadata": {},
   "outputs": [
    {
     "data": {
      "text/plain": [
       "GridSearchCV(cv=10, estimator=DecisionTreeClassifier(random_state=4), n_jobs=-1,\n",
       "             param_grid={'max_depth': [3, 5, 6, 7],\n",
       "                         'min_samples_split': [50, 100, 150, 200, 250]})"
      ]
     },
     "execution_count": 50,
     "metadata": {},
     "output_type": "execute_result"
    }
   ],
   "source": [
    "from sklearn.model_selection import GridSearchCV\n",
    "param_dist = {'max_depth': [3, 5, 6, 7], 'min_samples_split': [50, 100, 150, 200, 250]}\n",
    "gscv_dtc = GridSearchCV(dtc, cv=10, param_grid=param_dist, n_jobs=-1)\n",
    "gscv_dtc.fit(x_train,y_train)\n"
   ]
  },
  {
   "cell_type": "code",
   "execution_count": 51,
   "id": "6d27fcd6",
   "metadata": {},
   "outputs": [
    {
     "data": {
      "text/plain": [
       "{'max_depth': 3, 'min_samples_split': 50}"
      ]
     },
     "execution_count": 51,
     "metadata": {},
     "output_type": "execute_result"
    }
   ],
   "source": [
    "gscv_dtc.best_params_  # best parametesrs "
   ]
  },
  {
   "cell_type": "code",
   "execution_count": 52,
   "id": "985244a5",
   "metadata": {},
   "outputs": [
    {
     "data": {
      "text/plain": [
       "DecisionTreeClassifier(max_depth=7, min_samples_split=50, random_state=4)"
      ]
     },
     "execution_count": 52,
     "metadata": {},
     "output_type": "execute_result"
    }
   ],
   "source": [
    "dtc = DecisionTreeClassifier(criterion='gini',random_state=4,max_depth=7,min_samples_split=50)\n",
    "dtc.fit(x_train,y_train)"
   ]
  },
  {
   "cell_type": "code",
   "execution_count": 53,
   "id": "3afd2b8b",
   "metadata": {},
   "outputs": [],
   "source": [
    "from sklearn.ensemble import RandomForestClassifier\n",
    "rfc = RandomForestClassifier(criterion='gini',random_state=4)"
   ]
  },
  {
   "cell_type": "code",
   "execution_count": 57,
   "id": "9f70f394",
   "metadata": {},
   "outputs": [
    {
     "name": "stderr",
     "output_type": "stream",
     "text": [
      "/opt/anaconda3/lib/python3.8/site-packages/sklearn/model_selection/_search.py:880: DataConversionWarning: A column-vector y was passed when a 1d array was expected. Please change the shape of y to (n_samples,), for example using ravel().\n",
      "  self.best_estimator_.fit(X, y, **fit_params)\n"
     ]
    },
    {
     "data": {
      "text/plain": [
       "GridSearchCV(cv=10, estimator=RandomForestClassifier(random_state=4), n_jobs=-1,\n",
       "             param_grid={'max_depth': [3, 5, 6, 7],\n",
       "                         'min_samples_split': [50, 100, 150, 200, 250]})"
      ]
     },
     "execution_count": 57,
     "metadata": {},
     "output_type": "execute_result"
    }
   ],
   "source": [
    "from sklearn.model_selection import GridSearchCV\n",
    "param_dist = {'max_depth': [3, 5, 6, 7], 'min_samples_split': [50, 100, 150, 200, 250]}\n",
    "gscv_rfc = GridSearchCV(rfc, cv=10, param_grid=param_dist, n_jobs=-1)\n",
    "gscv_rfc.fit(x_train,y_train)"
   ]
  },
  {
   "cell_type": "code",
   "execution_count": 58,
   "id": "d513466a",
   "metadata": {},
   "outputs": [
    {
     "data": {
      "text/plain": [
       "{'max_depth': 6, 'min_samples_split': 50}"
      ]
     },
     "execution_count": 58,
     "metadata": {},
     "output_type": "execute_result"
    }
   ],
   "source": [
    "gscv_rfc.best_params_"
   ]
  },
  {
   "cell_type": "code",
   "execution_count": 59,
   "id": "4bf0b9cc",
   "metadata": {},
   "outputs": [
    {
     "name": "stderr",
     "output_type": "stream",
     "text": [
      "<ipython-input-59-3a6e276d3048>:2: DataConversionWarning: A column-vector y was passed when a 1d array was expected. Please change the shape of y to (n_samples,), for example using ravel().\n",
      "  rfc.fit(x_train,y_train)\n"
     ]
    },
    {
     "data": {
      "text/plain": [
       "RandomForestClassifier(max_depth=6, min_samples_split=50, random_state=4)"
      ]
     },
     "execution_count": 59,
     "metadata": {},
     "output_type": "execute_result"
    }
   ],
   "source": [
    "rfc=RandomForestClassifier(criterion='gini',random_state=4,max_depth=6,min_samples_split=50)\n",
    "rfc.fit(x_train,y_train)"
   ]
  },
  {
   "cell_type": "markdown",
   "id": "480cd82b",
   "metadata": {},
   "source": [
    "## Model Evaluation ."
   ]
  },
  {
   "cell_type": "code",
   "execution_count": 65,
   "id": "a5790778",
   "metadata": {},
   "outputs": [],
   "source": [
    "y_pred_lr=lr.predict(x_test)\n",
    "y_pred_dtc=dtc.predict(x_test)\n",
    "y_pred_rfc=rfc.predict(x_test)"
   ]
  },
  {
   "cell_type": "code",
   "execution_count": 66,
   "id": "79d3e7ba",
   "metadata": {},
   "outputs": [],
   "source": [
    "from sklearn import metrics\n",
    "from sklearn.metrics import confusion_matrix"
   ]
  },
  {
   "cell_type": "code",
   "execution_count": 67,
   "id": "fc292b71",
   "metadata": {},
   "outputs": [
    {
     "name": "stdout",
     "output_type": "stream",
     "text": [
      "Accuracy: 0.9304681504221028\n",
      "Precision 1.0\n",
      "Recall 0.033084311632870865\n",
      "f1_score 0.0640495867768595\n"
     ]
    }
   ],
   "source": [
    "print(\"Accuracy:\",metrics.accuracy_score(y_test, y_pred_lr))\n",
    "print(\"Precision\",metrics.precision_score(y_test,y_pred_lr))\n",
    "print(\"Recall\"metrics.plot_confusion_matrix(dtc,X_val,y_val),metrics.recall_score(y_test,y_pred_lr))\n",
    "print(\"f1_score\",metrics.f1_score(y_test,y_pred_lr))"
   ]
  },
  {
   "cell_type": "code",
   "execution_count": 69,
   "id": "fddb3cef",
   "metadata": {},
   "outputs": [
    {
     "data": {
      "text/plain": [
       "<sklearn.metrics._plot.confusion_matrix.ConfusionMatrixDisplay at 0x7f8b81ba47f0>"
      ]
     },
     "execution_count": 69,
     "metadata": {},
     "output_type": "execute_result"
    },
    {
     "data": {
      "image/png": "[encoded data removed]",
      "text/plain": [
       "<Figure size 432x288 with 2 Axes>"
      ]
     },
     "metadata": {
      "needs_background": "light"
     },
     "output_type": "display_data"
    }
   ],
   "source": [
    "metrics.plot_confusion_matrix(dtc,x_test,y_test)"
   ]
  },
  {
   "cell_type": "code",
   "execution_count": 70,
   "id": "1e00de0c",
   "metadata": {},
   "outputs": [
    {
     "name": "stdout",
     "output_type": "stream",
     "text": [
      "Accuracy: 0.929777436684574\n",
      "Precision 0.7037037037037037\n",
      "Recall 0.04055496264674493\n",
      "f1_score 0.07669021190716446\n"
     ]
    }
   ],
   "source": [
    "print(\"Accuracy:\",metrics.accuracy_score(y_test,y_pred_dtc))\n",
    "print(\"Precision\",metrics.precision_score(y_test,y_pred_dtc))\n",
    "print(\"Recall\",metrics.recall_score(y_test,y_pred_dtc))\n",
    "print(\"f1_score\",metrics.f1_score(y_test,y_pred_dtc))"
   ]
  },
  {
   "cell_type": "code",
   "execution_count": 72,
   "id": "9ee1b8ca",
   "metadata": {},
   "outputs": [
    {
     "data": {
      "text/plain": [
       "<sklearn.metrics._plot.confusion_matrix.ConfusionMatrixDisplay at 0x7f8b95f2b040>"
      ]
     },
     "execution_count": 72,
     "metadata": {},
     "output_type": "execute_result"
    },
    {
     "data": {
      "image/png": "[encoded data removed]",
      "text/plain": [
       "<Figure size 432x288 with 2 Axes>"
      ]
     },
     "metadata": {
      "needs_background": "light"
     },
     "output_type": "display_data"
    }
   ],
   "source": [
    "metrics.plot_confusion_matrix(dtc,x_test,y_test)"
   ]
  },
  {
   "cell_type": "code",
   "execution_count": 73,
   "id": "2f71d6dd",
   "metadata": {},
   "outputs": [
    {
     "name": "stdout",
     "output_type": "stream",
     "text": [
      "Accuracy: 0.9305448963929394\n",
      "Precision 1.0\n",
      "Recall 0.03415154749199573\n",
      "f1_score 0.06604747162022703\n"
     ]
    },
    {
     "data": {
      "text/plain": [
       "<sklearn.metrics._plot.confusion_matrix.ConfusionMatrixDisplay at 0x7f8b94ec1a60>"
      ]
     },
     "execution_count": 73,
     "metadata": {},
     "output_type": "execute_result"
    },
    {
     "data": {
      "image/png": "[encoded data removed]",
      "text/plain": [
       "<Figure size 432x288 with 2 Axes>"
      ]
     },
     "metadata": {
      "needs_background": "light"
     },
     "output_type": "display_data"
    }
   ],
   "source": [
    "print(\"Accuracy:\",metrics.accuracy_score(y_test, y_pred_rfc))\n",
    "print(\"Precision\",metrics.precision_score(y_test,y_pred_rfc))\n",
    "print(\"Recall\",metrics.recall_score(y_test,y_pred_rfc))\n",
    "print(\"f1_score\",metrics.f1_score(y_test,y_pred_rfc))\n",
    "\n",
    "metrics.plot_confusion_matrix(rfc,x_test,y_test)"
   ]
  },
  {
   "cell_type": "code",
   "execution_count": null,
   "id": "4c263944",
   "metadata": {},
   "outputs": [],
   "source": []
  },
  {
   "cell_type": "code",
   "execution_count": null,
   "id": "355f1dfd",
   "metadata": {},
   "outputs": [],
   "source": []
  },
  {
   "cell_type": "code",
   "execution_count": null,
   "id": "bc1d08e7",
   "metadata": {},
   "outputs": [],
   "source": []
  }
 ],
 "metadata": {
  "kernelspec": {
   "display_name": "Python 3",
   "language": "python",
   "name": "python3"
  },
  "language_info": {
   "codemirror_mode": {
    "name": "ipython",
    "version": 3
   },
   "file_extension": ".py",
   "mimetype": "text/x-python",
   "name": "python",
   "nbconvert_exporter": "python",
   "pygments_lexer": "ipython3",
   "version": "3.8.8"
  }
 },
 "nbformat": 4,
 "nbformat_minor": 5
}
